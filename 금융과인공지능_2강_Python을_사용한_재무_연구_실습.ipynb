{
  "nbformat": 4,
  "nbformat_minor": 0,
  "metadata": {
    "colab": {
      "provenance": [],
      "include_colab_link": true
    },
    "kernelspec": {
      "name": "python3",
      "display_name": "Python 3"
    },
    "language_info": {
      "name": "python"
    }
  },
  "cells": [
    {
      "cell_type": "markdown",
      "metadata": {
        "id": "view-in-github",
        "colab_type": "text"
      },
      "source": [
        "<a href=\"https://colab.research.google.com/github/Huni6102/Huni6102/blob/main/%EA%B8%88%EC%9C%B5%EA%B3%BC%EC%9D%B8%EA%B3%B5%EC%A7%80%EB%8A%A5_2%EA%B0%95_Python%EC%9D%84_%EC%82%AC%EC%9A%A9%ED%95%9C_%EC%9E%AC%EB%AC%B4_%EC%97%B0%EA%B5%AC_%EC%8B%A4%EC%8A%B5.ipynb\" target=\"_parent\"><img src=\"https://colab.research.google.com/assets/colab-badge.svg\" alt=\"Open In Colab\"/></a>"
      ]
    },
    {
      "cell_type": "markdown",
      "source": [
        "## **금융과 인공지능**\n",
        "## Python을 활용한 재무연구 실습                   "
      ],
      "metadata": {
        "id": "vEEF_jQG2m3b"
      }
    },
    {
      "cell_type": "code",
      "source": [
        "###################\n",
        "# Import Packages #\n",
        "###################\n",
        "\n",
        "import os\n",
        "import datetime\n",
        "import pandas as pd\n",
        "import numpy as np\n",
        "import matplotlib.pyplot as plt\n",
        "from pandas.tseries.offsets import * # MonthEnd\n",
        "import statsmodels.formula.api as sm\n",
        "import pandas_datareader.data as web\n",
        "from pandas_datareader.famafrench import get_available_datasets"
      ],
      "metadata": {
        "id": "Cpg9UYfz29HS"
      },
      "execution_count": null,
      "outputs": []
    },
    {
      "cell_type": "code",
      "source": [
        "############################\n",
        "# 1. Data Collection       #\n",
        "############################\n",
        "\n",
        "# set date\n",
        "start = datetime.datetime(2020,1,1) # start date\n",
        "end = datetime.datetime(2024,9,6) # end date\n",
        "print(start)\n",
        "\n",
        "### download each stocks\n",
        "SAM = web.DataReader('005930', 'naver', start=start, end=end) # Samsung\n",
        "LG = web.DataReader('003550', 'naver', start=start, end=end) # LG\n",
        "HYUN = web.DataReader('005380', 'naver', start=start, end=end) # Hyundai motors\n",
        "\n",
        "# check datatypes\n",
        "print(SAM.head(5))\n",
        "print(SAM.dtypes)\n",
        "SAM['Close'] = pd.to_numeric(SAM['Close'], errors='coerce')\n",
        "print(SAM.dtypes)\n",
        "LG['Close'] = pd.to_numeric(LG['Close'], errors='coerce')\n",
        "HYUN['Close'] = pd.to_numeric(HYUN['Close'], errors='coerce')\n",
        "\n",
        "### input name\n",
        "SAM['ticker'] = 'SAM'\n",
        "LG['ticker'] = 'LG'\n",
        "HYUN['ticker'] = 'HYUN'\n",
        "\n",
        "# sort values\n",
        "SAM = SAM.reset_index().sort_values(['Date'])\n",
        "LG = LG.reset_index().sort_values(['Date'])\n",
        "HYUN = HYUN.reset_index().sort_values(['Date'])\n",
        "\n",
        "# concatenate matrix\n",
        "stock_set = pd.concat([SAM, LG, HYUN], ignore_index=True).set_index('Date') # long type\n",
        "print(stock_set.head(5))\n",
        "print(stock_set.tail(5))"
      ],
      "metadata": {
        "colab": {
          "base_uri": "https://localhost:8080/"
        },
        "id": "xajcCbfT3JGc",
        "outputId": "f401ba41-2b6e-452e-8590-37b72a7aea32"
      },
      "execution_count": null,
      "outputs": [
        {
          "output_type": "stream",
          "name": "stdout",
          "text": [
            "              Open    High     Low   Close   Volume ticker\n",
            "Date                                                      \n",
            "2024-09-02  256000  256000  245000  246000  1006660   HYUN\n",
            "2024-09-03  244000  244500  236000  237500  1024521   HYUN\n",
            "2024-09-04  231000  236500  229500  232500   942257   HYUN\n",
            "2024-09-05  236000  237500  227000  229000   884047   HYUN\n",
            "2024-09-06  228000  230500  223000  227500   710077   HYUN\n"
          ]
        }
      ]
    },
    {
      "cell_type": "code",
      "source": [
        "############################################################################\n",
        "# Ken French's Data Library                                                #\n",
        "# http://mba.tuck.dartmouth.edu/pages/faculty/ken.french/data_library.html #\n",
        "############################################################################\n",
        "### Data Library List\n",
        "data_list = get_available_datasets()\n",
        "len(data_list)\n",
        "\n",
        "### Get Fama-French 3 Factors (Monthly)\n",
        "\n",
        "f3 = web.DataReader('F-F_Research_Data_Factors', 'famafrench', start=start, end=end)\n",
        "print(f3['DESCR']) ## check the data description\n",
        "f3 = f3[0] # choose monthly data\n",
        "print(f3.head(5))"
      ],
      "metadata": {
        "colab": {
          "base_uri": "https://localhost:8080/"
        },
        "id": "kXpP0jXa3Jq8",
        "outputId": "e5e64322-e8a7-422f-b066-16833b83bc0e"
      },
      "execution_count": null,
      "outputs": [
        {
          "output_type": "stream",
          "name": "stdout",
          "text": [
            "F-F Research Data Factors\n",
            "-------------------------\n",
            "\n",
            "This file was created by CMPT_ME_BEME_RETS using the 202407 CRSP database. The 1-month TBill rate data until 202405 are from Ibbotson Associates. Starting from 202406, the 1-month TBill rate is from ICE BofA US 1-Month Treasury Bill Index. Copyright 2024 Kenneth R. French\n",
            "\n",
            "  0 : (55 rows x 4 cols)\n",
            "  1 : Annual Factors: January-December (4 rows x 4 cols)\n",
            "         Mkt-RF   SMB    HML    RF\n",
            "Date                              \n",
            "2020-01   -0.11 -3.13  -6.25  0.13\n",
            "2020-02   -8.13  1.07  -3.80  0.12\n",
            "2020-03  -13.39 -4.79 -13.88  0.13\n",
            "2020-04   13.65  2.45  -1.34  0.00\n",
            "2020-05    5.58  2.49  -4.85  0.01\n"
          ]
        },
        {
          "output_type": "stream",
          "name": "stderr",
          "text": [
            "<ipython-input-58-064509530c45>:11: FutureWarning: The argument 'date_parser' is deprecated and will be removed in a future version. Please use 'date_format' instead, or read your data in as 'object' dtype and then call 'to_datetime'.\n",
            "  f3 = web.DataReader('F-F_Research_Data_Factors', 'famafrench', start=start, end=end)\n",
            "<ipython-input-58-064509530c45>:11: FutureWarning: The argument 'date_parser' is deprecated and will be removed in a future version. Please use 'date_format' instead, or read your data in as 'object' dtype and then call 'to_datetime'.\n",
            "  f3 = web.DataReader('F-F_Research_Data_Factors', 'famafrench', start=start, end=end)\n"
          ]
        }
      ]
    },
    {
      "cell_type": "code",
      "source": [
        "############################\n",
        "# 2. Data Transformation   #\n",
        "############################\n",
        "\n",
        "### fama-french 3 factor (MKT, SMB, HML)\n",
        "f3 = f3/100 # scaling the values\n",
        "f3 = f3.reset_index()\n",
        "f3 = f3.rename(columns = {'Mkt-RF': 'MKT', 'date': 'Date'}) # rename the column\n",
        "\n",
        "### convert daily price to monthly return\n",
        "print(stock_set.head())\n",
        "monthly = stock_set.groupby(['ticker']).resample('M').last() # resample with month end data # change 'M' to 'ME' for python 3.9 if it generate errors.\n",
        "print(monthly.head())\n",
        "monthly = monthly.drop(['ticker'], axis=1).reset_index() # use drop when you want to drop certain column\n",
        "monthly['Close'] = pd.to_numeric(monthly['Close'], errors='coerce')\n",
        "\n",
        "monthly['ret'] = monthly.groupby(['ticker'])['Close'].pct_change()  # (P_{t} / P_{t-1})-1\n",
        "monthly['logret'] = monthly.groupby('ticker')['Close'].transform(lambda x: np.log(x) - np.log(x.shift(1)))  # ln(P_{t} / P_{t-1}) = ln(P_{t}) - ln(P_{t-1}) => ln(A/B) = ln(A) - ln(B)\n",
        "\n",
        "### Pivot\n",
        "print(monthly.head())\n",
        "data = monthly.pivot(index='Date', columns='ticker', values='ret')\n",
        "data = data.reset_index()\n",
        "print(data.head())\n",
        "data['Date'] = pd.to_datetime(data['Date']).dt.to_period('M')\n",
        "print(data.head())\n",
        "print(f3.head())\n",
        "\n",
        "### Merge with FF3\n",
        "data = pd.merge(data, f3, how='left', on=['Date'])\n",
        "print(data.head(5))"
      ],
      "metadata": {
        "colab": {
          "base_uri": "https://localhost:8080/"
        },
        "id": "-i8lwnsU3J8s",
        "outputId": "c84d19f7-9459-4df4-ff81-a3486fe83d12"
      },
      "execution_count": null,
      "outputs": [
        {
          "output_type": "stream",
          "name": "stdout",
          "text": [
            "             Open   High    Low  Close    Volume ticker\n",
            "Date                                                   \n",
            "2020-01-02  55500  56000  55000  55200  12993228    SAM\n",
            "2020-01-03  56000  56600  54900  55500  15422255    SAM\n",
            "2020-01-06  54900  55600  54600  55500  10278951    SAM\n",
            "2020-01-07  55700  56400  55600  55800  10009778    SAM\n",
            "2020-01-08  56200  57400  55900  56800  23501171    SAM\n",
            "                     Open    High     Low   Close   Volume ticker\n",
            "ticker Date                                                      \n",
            "HYUN   2020-01-31  128500  129500  124500  125000  1035126   HYUN\n",
            "       2020-02-29  118500  119000  114000  115000  1777353   HYUN\n",
            "       2020-03-31   87700   88700   86000   88700  2138183   HYUN\n",
            "       2020-04-30   93500   94000   92400   93600  1193284   HYUN\n",
            "       2020-05-31   96300   99200   96300   98000  2010414   HYUN\n",
            "  ticker       Date    Open    High     Low   Close   Volume       ret  \\\n",
            "0   HYUN 2020-01-31  128500  129500  124500  125000  1035126       NaN   \n",
            "1   HYUN 2020-02-29  118500  119000  114000  115000  1777353 -0.080000   \n",
            "2   HYUN 2020-03-31   87700   88700   86000   88700  2138183 -0.228696   \n",
            "3   HYUN 2020-04-30   93500   94000   92400   93600  1193284  0.055242   \n",
            "4   HYUN 2020-05-31   96300   99200   96300   98000  2010414  0.047009   \n",
            "\n",
            "     logret  \n",
            "0       NaN  \n",
            "1 -0.083382  \n",
            "2 -0.259672  \n",
            "3  0.053770  \n",
            "4  0.045937  \n",
            "ticker       Date      HYUN        LG       SAM\n",
            "0      2020-01-31       NaN       NaN       NaN\n",
            "1      2020-02-29 -0.080000 -0.039828 -0.039007\n",
            "2      2020-03-31 -0.228696 -0.125931 -0.119004\n",
            "3      2020-04-30  0.055242  0.050848  0.047120\n",
            "4      2020-05-31  0.047009  0.017740  0.014000\n",
            "ticker     Date      HYUN        LG       SAM\n",
            "0       2020-01       NaN       NaN       NaN\n",
            "1       2020-02 -0.080000 -0.039828 -0.039007\n",
            "2       2020-03 -0.228696 -0.125931 -0.119004\n",
            "3       2020-04  0.055242  0.050848  0.047120\n",
            "4       2020-05  0.047009  0.017740  0.014000\n",
            "      Date     MKT     SMB     HML      RF\n",
            "0  2020-01 -0.0011 -0.0313 -0.0625  0.0013\n",
            "1  2020-02 -0.0813  0.0107 -0.0380  0.0012\n",
            "2  2020-03 -0.1339 -0.0479 -0.1388  0.0013\n",
            "3  2020-04  0.1365  0.0245 -0.0134  0.0000\n",
            "4  2020-05  0.0558  0.0249 -0.0485  0.0001\n",
            "      Date      HYUN        LG       SAM     MKT     SMB     HML      RF\n",
            "0  2020-01       NaN       NaN       NaN -0.0011 -0.0313 -0.0625  0.0013\n",
            "1  2020-02 -0.080000 -0.039828 -0.039007 -0.0813  0.0107 -0.0380  0.0012\n",
            "2  2020-03 -0.228696 -0.125931 -0.119004 -0.1339 -0.0479 -0.1388  0.0013\n",
            "3  2020-04  0.055242  0.050848  0.047120  0.1365  0.0245 -0.0134  0.0000\n",
            "4  2020-05  0.047009  0.017740  0.014000  0.0558  0.0249 -0.0485  0.0001\n"
          ]
        }
      ]
    },
    {
      "cell_type": "code",
      "source": [
        "############################\n",
        "# 3. Data Analysis         #\n",
        "############################\n",
        "\n",
        "### Data Description\n",
        "data = data.set_index('Date')\n",
        "print(data)\n",
        "print(data.describe())\n",
        "\n",
        "### Correlation Matrix\n",
        "corr = data.corr()\n",
        "print(corr)\n",
        "\n",
        "### Regression\n",
        "reg_data = data.copy().dropna() # drop missing values\n",
        "print(reg_data.head())\n",
        "reg_data['SAM_ex'] = reg_data['SAM']- reg_data['RF']\n",
        "reg_data['LG_ex'] = reg_data['LG']- reg_data['RF']\n",
        "reg_data['HYUN_ex'] = reg_data['HYUN'] - reg_data['RF']\n",
        "\n",
        "ols_SAM = sm.ols(formula = 'SAM_ex~MKT+SMB+HML', data = reg_data).fit()\n",
        "print(ols_SAM.summary())\n",
        "print(ols_SAM.params)\n",
        "print(ols_SAM.tvalues)\n",
        "ols_LG = sm.ols(formula = 'LG_ex~MKT+SMB+HML', data = reg_data).fit()\n",
        "print(ols_LG.summary())\n",
        "print(ols_LG.params)\n",
        "print(ols_LG.tvalues)\n",
        "ols_HYUN = sm.ols(formula = 'HYUN_ex~MKT+SMB+HML', data = reg_data).fit()\n",
        "print(ols_HYUN.summary())\n",
        "print(ols_HYUN.params)\n",
        "print(ols_HYUN.tvalues)"
      ],
      "metadata": {
        "colab": {
          "base_uri": "https://localhost:8080/"
        },
        "id": "F7k8BFZg3KTG",
        "outputId": "669db65a-34cc-4dda-ab87-b51bf186353b"
      },
      "execution_count": null,
      "outputs": [
        {
          "output_type": "stream",
          "name": "stdout",
          "text": [
            "                            OLS Regression Results                            \n",
            "==============================================================================\n",
            "Dep. Variable:                  LG_ex   R-squared:                       0.271\n",
            "Model:                            OLS   Adj. R-squared:                  0.228\n",
            "Method:                 Least Squares   F-statistic:                     6.205\n",
            "Date:                Tue, 10 Sep 2024   Prob (F-statistic):            0.00115\n",
            "Time:                        04:36:18   Log-Likelihood:                 59.915\n",
            "No. Observations:                  54   AIC:                            -111.8\n",
            "Df Residuals:                      50   BIC:                            -103.9\n",
            "Df Model:                           3                                         \n",
            "Covariance Type:            nonrobust                                         \n",
            "==============================================================================\n",
            "                 coef    std err          t      P>|t|      [0.025      0.975]\n",
            "------------------------------------------------------------------------------\n",
            "Intercept     -0.0007      0.012     -0.061      0.951      -0.024       0.022\n",
            "MKT            0.7739      0.210      3.683      0.001       0.352       1.196\n",
            "SMB            0.3936      0.371      1.061      0.294      -0.352       1.139\n",
            "HML           -0.1491      0.237     -0.630      0.532      -0.624       0.326\n",
            "==============================================================================\n",
            "Omnibus:                       40.240   Durbin-Watson:                   2.307\n",
            "Prob(Omnibus):                  0.000   Jarque-Bera (JB):              148.064\n",
            "Skew:                           1.986   Prob(JB):                     7.05e-33\n",
            "Kurtosis:                      10.073   Cond. No.                         33.5\n",
            "==============================================================================\n",
            "\n",
            "Notes:\n",
            "[1] Standard Errors assume that the covariance matrix of the errors is correctly specified.\n",
            "Intercept   -0.000708\n",
            "MKT          0.773943\n",
            "SMB          0.393645\n",
            "HML         -0.149065\n",
            "dtype: float64\n",
            "Intercept   -0.061477\n",
            "MKT          3.683352\n",
            "SMB          1.060858\n",
            "HML         -0.629962\n",
            "dtype: float64\n",
            "                            OLS Regression Results                            \n",
            "==============================================================================\n",
            "Dep. Variable:                HYUN_ex   R-squared:                       0.280\n",
            "Model:                            OLS   Adj. R-squared:                  0.237\n",
            "Method:                 Least Squares   F-statistic:                     6.494\n",
            "Date:                Tue, 10 Sep 2024   Prob (F-statistic):           0.000849\n",
            "Time:                        04:36:18   Log-Likelihood:                 51.693\n",
            "No. Observations:                  54   AIC:                            -95.39\n",
            "Df Residuals:                      50   BIC:                            -87.43\n",
            "Df Model:                           3                                         \n",
            "Covariance Type:            nonrobust                                         \n",
            "==============================================================================\n",
            "                 coef    std err          t      P>|t|      [0.025      0.975]\n",
            "------------------------------------------------------------------------------\n",
            "Intercept      0.0066      0.013      0.494      0.624      -0.020       0.034\n",
            "MKT            0.9905      0.245      4.048      0.000       0.499       1.482\n",
            "SMB            0.1399      0.432      0.324      0.748      -0.728       1.008\n",
            "HML           -0.2743      0.276     -0.996      0.324      -0.828       0.279\n",
            "==============================================================================\n",
            "Omnibus:                       14.513   Durbin-Watson:                   1.842\n",
            "Prob(Omnibus):                  0.001   Jarque-Bera (JB):               16.238\n",
            "Skew:                           1.122   Prob(JB):                     0.000298\n",
            "Kurtosis:                       4.478   Cond. No.                         33.5\n",
            "==============================================================================\n",
            "\n",
            "Notes:\n",
            "[1] Standard Errors assume that the covariance matrix of the errors is correctly specified.\n",
            "Intercept    0.006621\n",
            "MKT          0.990470\n",
            "SMB          0.139855\n",
            "HML         -0.274314\n",
            "dtype: float64\n",
            "Intercept    0.493553\n",
            "MKT          4.048108\n",
            "SMB          0.323672\n",
            "HML         -0.995553\n",
            "dtype: float64\n"
          ]
        }
      ]
    },
    {
      "cell_type": "code",
      "source": [
        "############################\n",
        "# 4. Data Visualization    #\n",
        "############################\n",
        "### Graph\n",
        "# box plot\n",
        "# reg_data = reg_data.apply(pd.to_numeric, errors='coerce')\n",
        "boxplot = reg_data.boxplot(column=['SAM','LG','HYUN','MKT','SMB','HML'])\n",
        "plt.show()\n",
        "print(reg_data[['SAM','LG','HYUN','MKT','SMB','HML']].describe())\n",
        "\n",
        "# plot SAMSUNG return and MKT return (corr=0.61)\n",
        "\n",
        "line5 = plt.plot(reg_data.index.to_timestamp(), reg_data[['SAM']], label='SAM')\n",
        "line6 = plt.plot(reg_data.index.to_timestamp(), reg_data[['MKT']], label='MKT')\n",
        "\n",
        "plt.xticks(rotation=30)\n",
        "plt.legend()\n",
        "plt.xlabel('year')\n",
        "plt.ylabel('return(%)')\n",
        "plt.suptitle('SAMSUNG & MKT Return Comparison (corr=0.61)')\n",
        "plt.show()\n",
        "# plt.savefig('samsung_mkt.png', bbox_inches='tight') # save plot\n",
        "\n",
        "# plot Ford return and HML return (corr=-0.10)\n",
        "\n",
        "line7 = plt.plot(reg_data.index.to_timestamp(), reg_data[['HYUN']], label='HYUN')\n",
        "line8 = plt.plot(reg_data.index.to_timestamp(), reg_data[['HML']], label='HML')\n",
        "\n",
        "plt.xticks(rotation=30)\n",
        "plt.legend()\n",
        "plt.xlabel('year')\n",
        "plt.ylabel('return(%)')\n",
        "plt.suptitle('HYUNDAI MOTORS & HML Return Comparison (corr=-0.10)')\n",
        "plt.show()\n",
        "# plt.savefig('hyundai_hml.png', bbox_inches='tight') # save plot\n"
      ],
      "metadata": {
        "colab": {
          "base_uri": "https://localhost:8080/",
          "height": 524
        },
        "id": "Xc5bfDxv3Kdo",
        "outputId": "0c8c5375-bfe2-4421-c6a6-25477def75cd"
      },
      "execution_count": null,
      "outputs": [
        {
          "output_type": "display_data",
          "data": {
            "text/plain": [
              "<Figure size 640x480 with 1 Axes>"
            ],
            "image/png": "[encoded data removed]"
          },
          "metadata": {}
        }
      ]
    },
    {
      "cell_type": "code",
      "source": [
        "### Output\n",
        "\n",
        "SAM_result = round(pd.concat((ols_SAM.params, ols_SAM.tvalues), axis=1).rename(columns={0: 'SAMSUNG_beta', 1: 'SAMSUNG_t'}), 3)\n",
        "LG_result = round(pd.concat((ols_LG.params, ols_LG.tvalues), axis=1).rename(columns={0: 'LG_beta', 1: 'LG_t'}), 3)\n",
        "HYUN_result = round(pd.concat((ols_HYUN.params, ols_HYUN.tvalues), axis=1).rename(columns={0: 'HYUNDAI_beta', 1: 'HYUNDAI_t'}), 3)\n",
        "\n",
        "print(SAM_result)\n",
        "\n",
        "result = pd.concat((SAM_result, LG_result, HYUN_result), axis=1)\n",
        "print(result)\n",
        "# result.to_csv('result.csv', sep=',')"
      ],
      "metadata": {
        "colab": {
          "base_uri": "https://localhost:8080/"
        },
        "id": "lOi3rha13KmL",
        "outputId": "5c9659f6-07b1-430d-b478-535e640f1bb1"
      },
      "execution_count": null,
      "outputs": [
        {
          "output_type": "stream",
          "name": "stdout",
          "text": [
            "           SAMSUNG_beta  SAMSUNG_t  LG_beta   LG_t  HYUNDAI_beta  HYUNDAI_t\n",
            "Intercept         0.000      0.019   -0.001 -0.061         0.007      0.494\n",
            "MKT               0.744      5.012    0.774  3.683         0.990      4.048\n",
            "SMB               0.336      1.281    0.394  1.061         0.140      0.324\n",
            "HML               0.065      0.389   -0.149 -0.630        -0.274     -0.996\n"
          ]
        }
      ]
    },
    {
      "cell_type": "code",
      "source": [],
      "metadata": {
        "id": "u6jdqPY-3KvJ"
      },
      "execution_count": null,
      "outputs": []
    }
  ]
}