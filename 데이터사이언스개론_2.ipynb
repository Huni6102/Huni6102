{
  "nbformat": 4,
  "nbformat_minor": 0,
  "metadata": {
    "colab": {
      "provenance": [],
      "authorship_tag": "ABX9TyPDOtkQt69+BUDAT0FtyrVq",
      "include_colab_link": true
    },
    "kernelspec": {
      "name": "python3",
      "display_name": "Python 3"
    },
    "language_info": {
      "name": "python"
    }
  },
  "cells": [
    {
      "cell_type": "markdown",
      "metadata": {
        "id": "view-in-github",
        "colab_type": "text"
      },
      "source": [
        "<a href=\"https://colab.research.google.com/github/Huni6102/Huni6102/blob/main/%EB%8D%B0%EC%9D%B4%ED%84%B0%EC%82%AC%EC%9D%B4%EC%96%B8%EC%8A%A4%EA%B0%9C%EB%A1%A0_2.ipynb\" target=\"_parent\"><img src=\"https://colab.research.google.com/assets/colab-badge.svg\" alt=\"Open In Colab\"/></a>"
      ]
    },
    {
      "cell_type": "markdown",
      "source": [
        "# 숫자 타입과 산술 연산"
      ],
      "metadata": {
        "id": "gUZlVZGkWkKn"
      }
    },
    {
      "cell_type": "code",
      "execution_count": 4,
      "metadata": {
        "id": "_zYNWpVdIvI2",
        "colab": {
          "base_uri": "https://localhost:8080/"
        },
        "outputId": "27ecce29-1599-4fd0-d93a-03558d3125e5"
      },
      "outputs": [
        {
          "output_type": "execute_result",
          "data": {
            "text/plain": [
              "int"
            ]
          },
          "metadata": {},
          "execution_count": 4
        }
      ],
      "source": [
        "type(3)"
      ]
    },
    {
      "cell_type": "code",
      "source": [
        "type(3.1)"
      ],
      "metadata": {
        "colab": {
          "base_uri": "https://localhost:8080/"
        },
        "id": "-xHu7cUOTbUX",
        "outputId": "b770bf6b-82ea-4295-b0a1-fe528468f742"
      },
      "execution_count": 5,
      "outputs": [
        {
          "output_type": "execute_result",
          "data": {
            "text/plain": [
              "float"
            ]
          },
          "metadata": {},
          "execution_count": 5
        }
      ]
    },
    {
      "cell_type": "code",
      "source": [
        "type(3.0)"
      ],
      "metadata": {
        "colab": {
          "base_uri": "https://localhost:8080/"
        },
        "id": "wvTlcLuLThMs",
        "outputId": "b648e542-5369-4a40-d936-3307328d2382"
      },
      "execution_count": 6,
      "outputs": [
        {
          "output_type": "execute_result",
          "data": {
            "text/plain": [
              "float"
            ]
          },
          "metadata": {},
          "execution_count": 6
        }
      ]
    },
    {
      "cell_type": "code",
      "source": [
        "3 ** 2\n",
        "#**: 거듭제곱"
      ],
      "metadata": {
        "colab": {
          "base_uri": "https://localhost:8080/"
        },
        "id": "blPX5nkGTioi",
        "outputId": "dbc537c5-e33e-48e4-ab34-2f72f31d8031"
      },
      "execution_count": 7,
      "outputs": [
        {
          "output_type": "execute_result",
          "data": {
            "text/plain": [
              "9"
            ]
          },
          "metadata": {},
          "execution_count": 7
        }
      ]
    },
    {
      "cell_type": "code",
      "source": [
        "5 / 2\n",
        "#/: 실수형 나눗셈"
      ],
      "metadata": {
        "colab": {
          "base_uri": "https://localhost:8080/"
        },
        "id": "2pBKCR2QTktr",
        "outputId": "e4155607-c83c-4a12-9b6e-ce819678056a"
      },
      "execution_count": 8,
      "outputs": [
        {
          "output_type": "execute_result",
          "data": {
            "text/plain": [
              "2.5"
            ]
          },
          "metadata": {},
          "execution_count": 8
        }
      ]
    },
    {
      "cell_type": "code",
      "source": [
        "5 // 2\n",
        "#//: 정수형 나눗셈, 나눗셈의 몫을 계산함"
      ],
      "metadata": {
        "colab": {
          "base_uri": "https://localhost:8080/"
        },
        "id": "SlFemdWZTmIa",
        "outputId": "7e587678-0bd9-4690-9081-cf3d3a106fd7"
      },
      "execution_count": 9,
      "outputs": [
        {
          "output_type": "execute_result",
          "data": {
            "text/plain": [
              "2"
            ]
          },
          "metadata": {},
          "execution_count": 9
        }
      ]
    },
    {
      "cell_type": "code",
      "source": [
        "5 % 2\n",
        "#%: 나눗셈의 나머지를 계산함"
      ],
      "metadata": {
        "colab": {
          "base_uri": "https://localhost:8080/"
        },
        "id": "wsvDbkzWTm_A",
        "outputId": "83b6ecd0-d8a2-48b9-df71-d296b3cefb9e"
      },
      "execution_count": 11,
      "outputs": [
        {
          "output_type": "execute_result",
          "data": {
            "text/plain": [
              "1"
            ]
          },
          "metadata": {},
          "execution_count": 11
        }
      ]
    },
    {
      "cell_type": "markdown",
      "source": [
        "# 복합 대입 연산자"
      ],
      "metadata": {
        "id": "jnKpdAwbWsOd"
      }
    },
    {
      "cell_type": "code",
      "source": [
        "num = 10"
      ],
      "metadata": {
        "id": "XRAJHS5qToua"
      },
      "execution_count": 12,
      "outputs": []
    },
    {
      "cell_type": "code",
      "source": [
        "num += 1\n",
        "#num = num + 1을 줄인 표현\n",
        "#num = num - 1 vs. num -= 1 은 동일한 표현\n",
        "#num = num * 3 vs. num*= 3 은 동일한 표현\n",
        "#=이 뒤에 온다."
      ],
      "metadata": {
        "id": "zH9ia-scT756"
      },
      "execution_count": 20,
      "outputs": []
    },
    {
      "cell_type": "markdown",
      "source": [
        "# 문자열 string"
      ],
      "metadata": {
        "id": "Z7SyQmnhWvxE"
      }
    },
    {
      "cell_type": "code",
      "source": [
        "A = '문자열을 만들어 봐요!'\n",
        "B = \"문자열은 이렇게 만들 수도 있어요~\"\n",
        "print(A, B)\n",
        "#파이썬은 유연한 문자열 처리가 강점\n",
        "#작은따옴표, 큰따옴표 모두 사용 가능"
      ],
      "metadata": {
        "colab": {
          "base_uri": "https://localhost:8080/"
        },
        "id": "RZYdwYGqU9gZ",
        "outputId": "5a54ebb8-dc49-4718-e21c-f10c59f96b82"
      },
      "execution_count": 35,
      "outputs": [
        {
          "output_type": "stream",
          "name": "stdout",
          "text": [
            "문자열을 만들어 봐요! 문자열은 이렇게 만들 수도 있어요~\n"
          ]
        }
      ]
    },
    {
      "cell_type": "markdown",
      "source": [
        "# 불리언(boolean)"
      ],
      "metadata": {
        "id": "wUr9sfPJW0LF"
      }
    },
    {
      "cell_type": "code",
      "source": [
        "case1 = (5 < 10)\n",
        "case1\n",
        "type(case1)\n",
        "#True 또는 False를 나타냄\n",
        "#비교나 조건 연산자를 통해 True나 False가 반환되며 and와 or로 조합 가능."
      ],
      "metadata": {
        "colab": {
          "base_uri": "https://localhost:8080/"
        },
        "id": "NaIjXQfJVN_m",
        "outputId": "c911decb-36fe-4125-bc2f-be7e10da7ee2"
      },
      "execution_count": 26,
      "outputs": [
        {
          "output_type": "execute_result",
          "data": {
            "text/plain": [
              "bool"
            ]
          },
          "metadata": {},
          "execution_count": 26
        }
      ]
    },
    {
      "cell_type": "code",
      "source": [
        "print(True, False)"
      ],
      "metadata": {
        "colab": {
          "base_uri": "https://localhost:8080/"
        },
        "id": "b57rhDqVV1FO",
        "outputId": "b40a7546-ff9c-47ac-e9be-38e42585b4ac"
      },
      "execution_count": 27,
      "outputs": [
        {
          "output_type": "stream",
          "name": "stdout",
          "text": [
            "True False\n"
          ]
        }
      ]
    },
    {
      "cell_type": "code",
      "source": [
        "True\n",
        "#True는 그 단어의 의미처럼 '참'을 뜻한다."
      ],
      "metadata": {
        "colab": {
          "base_uri": "https://localhost:8080/"
        },
        "id": "0CswzF2xV4zI",
        "outputId": "63a23941-6044-485d-aef2-2d89f11fb06a"
      },
      "execution_count": 29,
      "outputs": [
        {
          "output_type": "execute_result",
          "data": {
            "text/plain": [
              "True"
            ]
          },
          "metadata": {},
          "execution_count": 29
        }
      ]
    },
    {
      "cell_type": "code",
      "source": [
        "False\n",
        "#False는 그 단어의 의미처럼 '거짓'을 뜻한다."
      ],
      "metadata": {
        "colab": {
          "base_uri": "https://localhost:8080/"
        },
        "id": "wV_ibPVTWHuO",
        "outputId": "079dce00-3f75-43e5-dbed-04186a500c49"
      },
      "execution_count": 30,
      "outputs": [
        {
          "output_type": "execute_result",
          "data": {
            "text/plain": [
              "False"
            ]
          },
          "metadata": {},
          "execution_count": 30
        }
      ]
    },
    {
      "cell_type": "code",
      "source": [
        "3 > 10\n",
        "#3이 10보다 큰가?"
      ],
      "metadata": {
        "colab": {
          "base_uri": "https://localhost:8080/"
        },
        "id": "hNg2Ube7WPGb",
        "outputId": "6606bc7e-a676-497e-981c-f902f05607d6"
      },
      "execution_count": 31,
      "outputs": [
        {
          "output_type": "execute_result",
          "data": {
            "text/plain": [
              "False"
            ]
          },
          "metadata": {},
          "execution_count": 31
        }
      ]
    },
    {
      "cell_type": "code",
      "source": [
        "3 < 10\n",
        "#3이 10보다 작은가?"
      ],
      "metadata": {
        "colab": {
          "base_uri": "https://localhost:8080/"
        },
        "id": "M0gJ_8cQWRdz",
        "outputId": "8b88d474-0822-4cb0-b168-6214f3172faf"
      },
      "execution_count": 32,
      "outputs": [
        {
          "output_type": "execute_result",
          "data": {
            "text/plain": [
              "True"
            ]
          },
          "metadata": {},
          "execution_count": 32
        }
      ]
    },
    {
      "cell_type": "markdown",
      "source": [
        "# 타입 변환"
      ],
      "metadata": {
        "id": "Yw7ijE5XW87t"
      }
    },
    {
      "cell_type": "code",
      "source": [
        "float(10)\n",
        "#float(): 실수로 변환시키는 함수."
      ],
      "metadata": {
        "colab": {
          "base_uri": "https://localhost:8080/"
        },
        "id": "D1FOGyt2WTf3",
        "outputId": "284ee948-3053-4ca0-b4e5-906e8e96ec9f"
      },
      "execution_count": 33,
      "outputs": [
        {
          "output_type": "execute_result",
          "data": {
            "text/plain": [
              "10.0"
            ]
          },
          "metadata": {},
          "execution_count": 33
        }
      ]
    },
    {
      "cell_type": "code",
      "source": [
        "s = '5.6328'\n",
        "type(s)\n",
        "#작은 따옴표 사용했으므로 문자열이다."
      ],
      "metadata": {
        "colab": {
          "base_uri": "https://localhost:8080/"
        },
        "id": "TKwlzd8EWYXI",
        "outputId": "b4adf5b4-5704-46eb-b963-7845b7e9580e"
      },
      "execution_count": 37,
      "outputs": [
        {
          "output_type": "execute_result",
          "data": {
            "text/plain": [
              "str"
            ]
          },
          "metadata": {},
          "execution_count": 37
        }
      ]
    },
    {
      "cell_type": "code",
      "source": [
        "f_value = float(s)\n",
        "type(f_value)"
      ],
      "metadata": {
        "colab": {
          "base_uri": "https://localhost:8080/"
        },
        "id": "wm7L-L9-Wa96",
        "outputId": "3bd941ff-e0d8-4488-8ff1-0c9bb4f69f0f"
      },
      "execution_count": 38,
      "outputs": [
        {
          "output_type": "execute_result",
          "data": {
            "text/plain": [
              "float"
            ]
          },
          "metadata": {},
          "execution_count": 38
        }
      ]
    },
    {
      "cell_type": "code",
      "source": [
        "int(f_value)\n",
        "#int(): 정수로 변환시키는 함수. 반올림(X), 버림(O), 항상 버리는 것이다."
      ],
      "metadata": {
        "colab": {
          "base_uri": "https://localhost:8080/"
        },
        "id": "aaVBADytXR04",
        "outputId": "425daf66-25d6-4dbd-ad9c-5a7076c66cd9"
      },
      "execution_count": 42,
      "outputs": [
        {
          "output_type": "execute_result",
          "data": {
            "text/plain": [
              "5"
            ]
          },
          "metadata": {},
          "execution_count": 42
        }
      ]
    },
    {
      "cell_type": "markdown",
      "source": [
        "# 정해진 횟수만큼 반복해서 실행시키기"
      ],
      "metadata": {
        "id": "YwPln-Z9Xrfw"
      }
    },
    {
      "cell_type": "code",
      "source": [
        "for i in [0, 1, 2]:\n",
        "      print(i)\n",
        "      print(\"hi~\")\n",
        "#for문: 반복작업 시 사용.\n",
        "#i: index, 변수 선언, 보통 i로 자주 쓴다.\n",
        "#[0, 1, 2]: 반복 범위, 여기서는 리스트를 사용했다."
      ],
      "metadata": {
        "colab": {
          "base_uri": "https://localhost:8080/"
        },
        "id": "46wQ55LUXbeN",
        "outputId": "797745bf-586f-4ac9-ba77-2dbb7a0ffdb3"
      },
      "execution_count": 45,
      "outputs": [
        {
          "output_type": "stream",
          "name": "stdout",
          "text": [
            "0\n",
            "hi~\n",
            "1\n",
            "hi~\n",
            "2\n",
            "hi~\n"
          ]
        }
      ]
    },
    {
      "cell_type": "code",
      "source": [
        "sum = 0\n",
        "#합한 값을 넣어놓을 공간 먼저 설정함."
      ],
      "metadata": {
        "id": "5Tm7JClIX4do"
      },
      "execution_count": 49,
      "outputs": []
    },
    {
      "cell_type": "code",
      "source": [
        "for i in [1, 2, 3, 4, 5, 6, 7, 8, 9, 10]:\n",
        "      sum = sum + i\n",
        "#값을 계산하는 과정."
      ],
      "metadata": {
        "id": "9xIJkSCDYRHo"
      },
      "execution_count": 52,
      "outputs": []
    },
    {
      "cell_type": "code",
      "source": [
        "print(sum)"
      ],
      "metadata": {
        "colab": {
          "base_uri": "https://localhost:8080/"
        },
        "id": "abuDT2W5YWap",
        "outputId": "926ad2c9-2622-43f5-abff-5ed0818750c0"
      },
      "execution_count": 53,
      "outputs": [
        {
          "output_type": "stream",
          "name": "stdout",
          "text": [
            "55\n"
          ]
        }
      ]
    },
    {
      "cell_type": "code",
      "source": [
        "sum = 0"
      ],
      "metadata": {
        "id": "p_FhLl6ZYfDP"
      },
      "execution_count": 54,
      "outputs": []
    },
    {
      "cell_type": "code",
      "source": [
        "for i in range(1, 11):\n",
        "      sum = sum + i\n",
        "#1부터 10까지, 11포함 안 함."
      ],
      "metadata": {
        "id": "5taGEb5DY4vO"
      },
      "execution_count": 55,
      "outputs": []
    },
    {
      "cell_type": "code",
      "source": [
        "print(sum)"
      ],
      "metadata": {
        "colab": {
          "base_uri": "https://localhost:8080/"
        },
        "id": "W0ZcHPCxY8qW",
        "outputId": "688603d3-3160-4392-8849-edeba5d0f8f4"
      },
      "execution_count": 56,
      "outputs": [
        {
          "output_type": "stream",
          "name": "stdout",
          "text": [
            "55\n"
          ]
        }
      ]
    },
    {
      "cell_type": "markdown",
      "source": [
        "# in과 range의 조합"
      ],
      "metadata": {
        "id": "81s8lTJWZLxz"
      }
    },
    {
      "cell_type": "code",
      "source": [
        "for i in range(0, 3):\n",
        "      print(\"Happy\")\n",
        "#range(0, 3): 0, 1, 2\n",
        "#3회 반복이 목적"
      ],
      "metadata": {
        "colab": {
          "base_uri": "https://localhost:8080/"
        },
        "id": "hyzB0c8JZFEG",
        "outputId": "69779428-5f60-471f-e778-47aa2157d497"
      },
      "execution_count": 91,
      "outputs": [
        {
          "output_type": "stream",
          "name": "stdout",
          "text": [
            "Happy\n",
            "Happy\n",
            "Happy\n"
          ]
        }
      ]
    },
    {
      "cell_type": "code",
      "source": [
        "for i in range(3):\n",
        "      print(\"Happy\")\n",
        "#첫 번째 0 생략 가능\n",
        "#range(0, 숫자): 범위 설정이 중요한 경우\n",
        "#range(숫자): 범위 설정이 중요하지 않은 경우(단순반복)"
      ],
      "metadata": {
        "colab": {
          "base_uri": "https://localhost:8080/"
        },
        "id": "8SdGo9cZZRQO",
        "outputId": "7dede068-33f9-4341-94fe-326b40ac04d9"
      },
      "execution_count": 62,
      "outputs": [
        {
          "output_type": "stream",
          "name": "stdout",
          "text": [
            "Happy\n",
            "Happy\n",
            "Happy\n"
          ]
        }
      ]
    },
    {
      "cell_type": "markdown",
      "source": [
        "# 복습과 확장"
      ],
      "metadata": {
        "id": "_5telnkrZsJd"
      }
    },
    {
      "cell_type": "code",
      "source": [
        "for i in [1, 2, 3]:\n",
        "      print(i, end = \"_\")\n",
        "#end = \"_\": 뒤에 _붙임. 큰 따옴표, 작은 따옴표 상관 없음."
      ],
      "metadata": {
        "colab": {
          "base_uri": "https://localhost:8080/"
        },
        "id": "iWZK2aFsZbaG",
        "outputId": "082b2883-1f14-48e0-8833-e8f4b75939ae"
      },
      "execution_count": 67,
      "outputs": [
        {
          "output_type": "stream",
          "name": "stdout",
          "text": [
            "1_2_3_"
          ]
        }
      ]
    },
    {
      "cell_type": "code",
      "source": [
        "for i in [1, 2, 3]:\n",
        "      print(i, end = \" \")\n",
        "#end = \" \": 뒤에 공백 붙임. 마찬가지 파이썬은 큰 따옴표, 작은 따옴표 상관 없음."
      ],
      "metadata": {
        "colab": {
          "base_uri": "https://localhost:8080/"
        },
        "id": "7-942wInZveQ",
        "outputId": "d02b26cd-9dd2-4c34-bce4-f09583631b57"
      },
      "execution_count": 69,
      "outputs": [
        {
          "output_type": "stream",
          "name": "stdout",
          "text": [
            "1 2 3 "
          ]
        }
      ]
    },
    {
      "cell_type": "markdown",
      "source": [
        "#리스트형 데이터는 []로 생성"
      ],
      "metadata": {
        "id": "tKomLcipaZEd"
      }
    },
    {
      "cell_type": "code",
      "source": [
        "#리스트: 여러 데이터의 형태가 혼재 가능함. 리스트는 순서가 중요함.\n",
        "#[]: [](대괄호)와 ,(콤마)로 구성됨."
      ],
      "metadata": {
        "id": "SF28sAgSaOog"
      },
      "execution_count": 70,
      "outputs": []
    },
    {
      "cell_type": "code",
      "source": [
        "type([1, 2, 3])\n",
        "#[1, 2, 3]의 데이터 형태를 질문"
      ],
      "metadata": {
        "colab": {
          "base_uri": "https://localhost:8080/"
        },
        "id": "sBM4iIX7aqNi",
        "outputId": "4dcd7247-bddb-4cfd-df8d-2447ec74d546"
      },
      "execution_count": 72,
      "outputs": [
        {
          "output_type": "execute_result",
          "data": {
            "text/plain": [
              "list"
            ]
          },
          "metadata": {},
          "execution_count": 72
        }
      ]
    },
    {
      "cell_type": "code",
      "source": [
        "[1, \"hello\", 3.3]\n",
        "#정수형, 문자열, 실수형 등 여러 형태의 데이터 혼재 가능함."
      ],
      "metadata": {
        "colab": {
          "base_uri": "https://localhost:8080/"
        },
        "id": "t7MtSGBrau_S",
        "outputId": "081f54e5-ddd7-45b3-de34-43bd8a2fd314"
      },
      "execution_count": 76,
      "outputs": [
        {
          "output_type": "execute_result",
          "data": {
            "text/plain": [
              "[1, 'hello', 3.3]"
            ]
          },
          "metadata": {},
          "execution_count": 76
        }
      ]
    },
    {
      "cell_type": "code",
      "source": [
        "[1, 2, [3, 4,], [\"AAA\", \"ZZZ\"]]\n",
        "#각 데이터 사이는 콤마로 구분 지어야 함\n",
        "#리스트 안에 리스트 가능함"
      ],
      "metadata": {
        "colab": {
          "base_uri": "https://localhost:8080/"
        },
        "id": "CxxLqXMTa3V-",
        "outputId": "ea8af503-644c-4f0b-dd8f-3d77bae04cf5"
      },
      "execution_count": 80,
      "outputs": [
        {
          "output_type": "execute_result",
          "data": {
            "text/plain": [
              "[1, 2, [3, 4], ['AAA', 'ZZZ']]"
            ]
          },
          "metadata": {},
          "execution_count": 80
        }
      ]
    },
    {
      "cell_type": "code",
      "source": [
        "st = [1, \"hello\", 3.3]"
      ],
      "metadata": {
        "id": "Zd9oG2bUcnri"
      },
      "execution_count": 81,
      "outputs": []
    },
    {
      "cell_type": "code",
      "source": [
        "print(st)"
      ],
      "metadata": {
        "colab": {
          "base_uri": "https://localhost:8080/"
        },
        "id": "wSi_WS2wc0Az",
        "outputId": "b4695bcb-1be9-4525-9f81-72fa1c92f5b9"
      },
      "execution_count": 82,
      "outputs": [
        {
          "output_type": "stream",
          "name": "stdout",
          "text": [
            "[1, 'hello', 3.3]\n"
          ]
        }
      ]
    },
    {
      "cell_type": "markdown",
      "source": [
        "# 인덱싱 연산"
      ],
      "metadata": {
        "id": "-LtNDReIc3nc"
      }
    },
    {
      "cell_type": "code",
      "source": [
        "#컴퓨터에서 인덱스는 0번부터 시작함."
      ],
      "metadata": {
        "id": "nHVkgr1sc1Sl"
      },
      "execution_count": 83,
      "outputs": []
    },
    {
      "cell_type": "code",
      "source": [
        "st = [1, 2, 3, 4, 5]"
      ],
      "metadata": {
        "id": "meJNXz5hc_Cn"
      },
      "execution_count": 84,
      "outputs": []
    },
    {
      "cell_type": "code",
      "source": [
        "n1 = st[0]\n",
        "#리스트 st에서 0번째 인덱스를 n1이라는 변수에 저장"
      ],
      "metadata": {
        "id": "ssecO3rZdBxv"
      },
      "execution_count": 86,
      "outputs": []
    },
    {
      "cell_type": "code",
      "source": [
        "n2 = st[4]\n",
        "#리스트 st에서 4번째 인덱스를 n2라는 변수에 저장"
      ],
      "metadata": {
        "id": "SWjnnwcddD4-"
      },
      "execution_count": 87,
      "outputs": []
    },
    {
      "cell_type": "code",
      "source": [
        "print(n1, n2)"
      ],
      "metadata": {
        "colab": {
          "base_uri": "https://localhost:8080/"
        },
        "id": "IzLoN_8CdIBK",
        "outputId": "ce259f8c-ef05-4d79-93ad-30f56a73135b"
      },
      "execution_count": 89,
      "outputs": [
        {
          "output_type": "stream",
          "name": "stdout",
          "text": [
            "1 5\n"
          ]
        }
      ]
    },
    {
      "cell_type": "code",
      "source": [
        "st = [1, 2, 3, 4, 5]"
      ],
      "metadata": {
        "id": "UM5UxThudJPL"
      },
      "execution_count": 92,
      "outputs": []
    },
    {
      "cell_type": "code",
      "source": [
        "print(st[0], st[2], st[4])\n",
        "#리스트 st에서 0번째 인덱스, 2번째 인덱스, 4번째 인덱스를 출력함"
      ],
      "metadata": {
        "colab": {
          "base_uri": "https://localhost:8080/"
        },
        "id": "w4nKc7WGdh62",
        "outputId": "2f0270e5-eb78-48d0-9483-622558798af7"
      },
      "execution_count": 95,
      "outputs": [
        {
          "output_type": "stream",
          "name": "stdout",
          "text": [
            "1 3 5\n"
          ]
        }
      ]
    },
    {
      "cell_type": "code",
      "source": [
        "st = [1, 2, 3, 4, 5]"
      ],
      "metadata": {
        "id": "67anBEfldlKT"
      },
      "execution_count": 96,
      "outputs": []
    },
    {
      "cell_type": "code",
      "source": [
        "st[0] = 5\n",
        "#리스트 내용을 대입 연산자를 사용하여 변경할 수 있다."
      ],
      "metadata": {
        "id": "kzuOP6X-dwi9"
      },
      "execution_count": 97,
      "outputs": []
    },
    {
      "cell_type": "code",
      "source": [
        "st[4] = 1\n",
        "#마찬가지 리스트 내용 변경 가능."
      ],
      "metadata": {
        "id": "YQ7Tgm_Rdza6"
      },
      "execution_count": 98,
      "outputs": []
    },
    {
      "cell_type": "code",
      "source": [
        "print(st)\n",
        "#변경된 내용 출력"
      ],
      "metadata": {
        "colab": {
          "base_uri": "https://localhost:8080/"
        },
        "id": "12PBkWxxd0jD",
        "outputId": "8794ef7d-fa5a-43e0-c2f8-f470cf620e55"
      },
      "execution_count": 100,
      "outputs": [
        {
          "output_type": "stream",
          "name": "stdout",
          "text": [
            "[5, 2, 3, 4, 1]\n"
          ]
        }
      ]
    },
    {
      "cell_type": "code",
      "source": [
        "st1 = [1, 2, 3, 4, 5, 6, 7, 8, 9]"
      ],
      "metadata": {
        "id": "Wk-Nb5xjd1Kk"
      },
      "execution_count": 101,
      "outputs": []
    },
    {
      "cell_type": "code",
      "source": [
        "st2 = st1[2:5]\n",
        "#리스트 st1에서 2번째부터 4번째 인덱스까지 st2라는 변수에 저장.\n",
        "#중요!: 컴퓨터 슬라이싱 연산에서 마지막 숫자는 취급을 안 한다. 직전 숫자까지만 취급한다.\n",
        "#[2:5]: 인덱스 2부터 4까지"
      ],
      "metadata": {
        "id": "FdIGOACJeEki"
      },
      "execution_count": 111,
      "outputs": []
    },
    {
      "cell_type": "code",
      "source": [
        "print(st2)"
      ],
      "metadata": {
        "colab": {
          "base_uri": "https://localhost:8080/"
        },
        "id": "9KyUzL9jeHl-",
        "outputId": "6850b2a1-b78f-4288-e27c-f526b0245230"
      },
      "execution_count": 103,
      "outputs": [
        {
          "output_type": "stream",
          "name": "stdout",
          "text": [
            "[3, 4, 5]\n"
          ]
        }
      ]
    },
    {
      "cell_type": "markdown",
      "source": [
        "# 문자열과 리스트"
      ],
      "metadata": {
        "id": "ssSMBFuYfKOD"
      }
    },
    {
      "cell_type": "code",
      "source": [
        "[1, 2] + [3, 4]"
      ],
      "metadata": {
        "colab": {
          "base_uri": "https://localhost:8080/"
        },
        "id": "oE_-ItDqeItW",
        "outputId": "b2e60995-5518-4445-99e9-44cc75389952"
      },
      "execution_count": 112,
      "outputs": [
        {
          "output_type": "execute_result",
          "data": {
            "text/plain": [
              "[1, 2, 3, 4]"
            ]
          },
          "metadata": {},
          "execution_count": 112
        }
      ]
    },
    {
      "cell_type": "code",
      "source": [
        "\"Hello\" + \"Everybody\""
      ],
      "metadata": {
        "colab": {
          "base_uri": "https://localhost:8080/",
          "height": 35
        },
        "id": "5pR2p_m3fNDi",
        "outputId": "7904c717-7c35-4b75-9ac7-12f237c5b3fb"
      },
      "execution_count": 113,
      "outputs": [
        {
          "output_type": "execute_result",
          "data": {
            "text/plain": [
              "'HelloEverybody'"
            ],
            "application/vnd.google.colaboratory.intrinsic+json": {
              "type": "string"
            }
          },
          "metadata": {},
          "execution_count": 113
        }
      ]
    },
    {
      "cell_type": "code",
      "source": [
        "[1, 2] * 3\n",
        "#중요!: 리스트를 반복하는 것이다. [3, 6]아님!, 안의 숫자를 계산하는 것이 아니다."
      ],
      "metadata": {
        "colab": {
          "base_uri": "https://localhost:8080/"
        },
        "id": "rWvln9hBfQSU",
        "outputId": "881f40e3-82a8-4b03-f728-80ecab173909"
      },
      "execution_count": 115,
      "outputs": [
        {
          "output_type": "execute_result",
          "data": {
            "text/plain": [
              "[1, 2, 1, 2, 1, 2]"
            ]
          },
          "metadata": {},
          "execution_count": 115
        }
      ]
    },
    {
      "cell_type": "code",
      "source": [
        "\"AZ\" * 3"
      ],
      "metadata": {
        "colab": {
          "base_uri": "https://localhost:8080/",
          "height": 35
        },
        "id": "-lF7UOxmfV7H",
        "outputId": "788516e8-f769-43dc-c74e-7bb024001c1f"
      },
      "execution_count": 116,
      "outputs": [
        {
          "output_type": "execute_result",
          "data": {
            "text/plain": [
              "'AZAZAZ'"
            ],
            "application/vnd.google.colaboratory.intrinsic+json": {
              "type": "string"
            }
          },
          "metadata": {},
          "execution_count": 116
        }
      ]
    },
    {
      "cell_type": "code",
      "source": [
        "st = [1, 2, 3, 4, 5]"
      ],
      "metadata": {
        "id": "uE2fwDp9foIX"
      },
      "execution_count": 117,
      "outputs": []
    },
    {
      "cell_type": "code",
      "source": [
        "print(st[2])\n",
        "#리스트 st에서 2번째 인덱스의 값을 출력"
      ],
      "metadata": {
        "colab": {
          "base_uri": "https://localhost:8080/"
        },
        "id": "s_xXcT4XftQy",
        "outputId": "0d97f484-9ea7-409d-a20c-8f9f8e2ae57b"
      },
      "execution_count": 118,
      "outputs": [
        {
          "output_type": "stream",
          "name": "stdout",
          "text": [
            "3\n"
          ]
        }
      ]
    },
    {
      "cell_type": "code",
      "source": [
        "str = \"SIMPLE\""
      ],
      "metadata": {
        "id": "woWk0c3vfzGn"
      },
      "execution_count": 119,
      "outputs": []
    },
    {
      "cell_type": "code",
      "source": [
        "print(str[2])\n",
        "#리스트 str에서 2번째 인덱스의 값을 출력"
      ],
      "metadata": {
        "colab": {
          "base_uri": "https://localhost:8080/"
        },
        "id": "N-XSmAJGf-GE",
        "outputId": "c67d5f27-00c1-439d-cbd3-e993f459e7eb"
      },
      "execution_count": 120,
      "outputs": [
        {
          "output_type": "stream",
          "name": "stdout",
          "text": [
            "M\n"
          ]
        }
      ]
    },
    {
      "cell_type": "code",
      "source": [
        "st = [1, 2, 3, 4, 5, 6, 7]"
      ],
      "metadata": {
        "id": "FJ1VKLXAgERS"
      },
      "execution_count": 121,
      "outputs": []
    },
    {
      "cell_type": "code",
      "source": [
        "print(st[2:5])\n",
        "#리스트 st에서 2번째 인덱스부터 4번째 인덱스까지의 값을 출력"
      ],
      "metadata": {
        "colab": {
          "base_uri": "https://localhost:8080/"
        },
        "id": "Y5GI5Oq1gHJO",
        "outputId": "48bd107d-d64e-43b7-f99a-2d9c4b69967d"
      },
      "execution_count": 122,
      "outputs": [
        {
          "output_type": "stream",
          "name": "stdout",
          "text": [
            "[3, 4, 5]\n"
          ]
        }
      ]
    },
    {
      "cell_type": "code",
      "source": [
        "str = \"SIMPLEST\""
      ],
      "metadata": {
        "id": "scclBgxIgNqC"
      },
      "execution_count": 123,
      "outputs": []
    },
    {
      "cell_type": "code",
      "source": [
        "print(str[2:5])\n",
        "#리스트 str에서 2번째 인덱스부터 4번째 인덱스까지의 값을 출력"
      ],
      "metadata": {
        "colab": {
          "base_uri": "https://localhost:8080/"
        },
        "id": "PxFcmyTygRN4",
        "outputId": "4b6b08c2-72b2-475c-9f80-b888ab6c191a"
      },
      "execution_count": 124,
      "outputs": [
        {
          "output_type": "stream",
          "name": "stdout",
          "text": [
            "MPL\n"
          ]
        }
      ]
    },
    {
      "cell_type": "code",
      "source": [
        "str = \"Happy\""
      ],
      "metadata": {
        "id": "LVtpXWXigWth"
      },
      "execution_count": 125,
      "outputs": []
    },
    {
      "cell_type": "code",
      "source": [
        "str[0] = \"D\"\n",
        "#문자열 D를 문자열 str의 0번째 인덱스로 대입한다\n",
        "#문자열과 리스트의 차이: 리스트의 내용은 인덱스 번호 대입으로 교체 가능하지만, 문자열은 불가능하다."
      ],
      "metadata": {
        "colab": {
          "base_uri": "https://localhost:8080/",
          "height": 184
        },
        "id": "y5a25TuZgekj",
        "outputId": "5f3a3e89-85fc-47dd-f714-c15b24da40b9"
      },
      "execution_count": 129,
      "outputs": [
        {
          "output_type": "error",
          "ename": "TypeError",
          "evalue": "'str' object does not support item assignment",
          "traceback": [
            "\u001b[0;31m---------------------------------------------------------------------------\u001b[0m",
            "\u001b[0;31mTypeError\u001b[0m                                 Traceback (most recent call last)",
            "\u001b[0;32m<ipython-input-129-4f0498979c18>\u001b[0m in \u001b[0;36m<cell line: 1>\u001b[0;34m()\u001b[0m\n\u001b[0;32m----> 1\u001b[0;31m \u001b[0mstr\u001b[0m\u001b[0;34m[\u001b[0m\u001b[0;36m0\u001b[0m\u001b[0;34m]\u001b[0m \u001b[0;34m=\u001b[0m \u001b[0;34m\"D\"\u001b[0m\u001b[0;34m\u001b[0m\u001b[0;34m\u001b[0m\u001b[0m\n\u001b[0m\u001b[1;32m      2\u001b[0m \u001b[0;31m#문자열 D를 문자열 str의 0번째 인덱스로 대입한다\u001b[0m\u001b[0;34m\u001b[0m\u001b[0;34m\u001b[0m\u001b[0m\n\u001b[1;32m      3\u001b[0m \u001b[0;31m#문자열과 리스트의 차이: 리스트의 내용은 인덱스 번호 대입으로 교체 가능하지만, 문자열은 불가능하다.\u001b[0m\u001b[0;34m\u001b[0m\u001b[0;34m\u001b[0m\u001b[0m\n",
            "\u001b[0;31mTypeError\u001b[0m: 'str' object does not support item assignment"
          ]
        }
      ]
    },
    {
      "cell_type": "markdown",
      "source": [
        "# 리스트와 for 루프, 문자열과 for 루프 그리고 len 함수"
      ],
      "metadata": {
        "id": "oQCzpuLxhDYR"
      }
    },
    {
      "cell_type": "code",
      "source": [
        "for i in [1, 2, 3]:\n",
        "      print(i, end = \" \")"
      ],
      "metadata": {
        "colab": {
          "base_uri": "https://localhost:8080/"
        },
        "id": "XbjD4TQxghsX",
        "outputId": "e689c735-92e5-4f79-cc5c-70a231615141"
      },
      "execution_count": 130,
      "outputs": [
        {
          "output_type": "stream",
          "name": "stdout",
          "text": [
            "1 2 3 "
          ]
        }
      ]
    },
    {
      "cell_type": "code",
      "source": [
        "for i in \"Happy\":\n",
        "      print(i, end = \" \")\n",
        "#범위에 문자열도 가능함."
      ],
      "metadata": {
        "colab": {
          "base_uri": "https://localhost:8080/"
        },
        "id": "R1Rh2fS2iBMX",
        "outputId": "2816e2f0-bf11-4655-eedd-2a5fbb3279df"
      },
      "execution_count": 134,
      "outputs": [
        {
          "output_type": "stream",
          "name": "stdout",
          "text": [
            "H a p p y "
          ]
        }
      ]
    },
    {
      "cell_type": "code",
      "source": [
        "st = [1, 2, 3]"
      ],
      "metadata": {
        "id": "IbcYOjBKiI42"
      },
      "execution_count": 135,
      "outputs": []
    },
    {
      "cell_type": "code",
      "source": [
        "len(st)\n",
        "#len(): 데이터 타입의 길이를 측정하는 함수, 즉 데이터가 몇 개 있는지 측정함.\n",
        "#데이터 타입의 길이 - 1 = 마지막 인덱스 번호"
      ],
      "metadata": {
        "colab": {
          "base_uri": "https://localhost:8080/"
        },
        "id": "-Z3LUabRiU8A",
        "outputId": "664e15a2-c733-42ca-f047-6845e71fede2"
      },
      "execution_count": 137,
      "outputs": [
        {
          "output_type": "execute_result",
          "data": {
            "text/plain": [
              "3"
            ]
          },
          "metadata": {},
          "execution_count": 137
        }
      ]
    },
    {
      "cell_type": "code",
      "source": [
        "sr = 'HaHaHa~'"
      ],
      "metadata": {
        "id": "Oe9dlmVxiWUq"
      },
      "execution_count": 139,
      "outputs": []
    },
    {
      "cell_type": "code",
      "source": [
        "len(sr)\n",
        "#문자열 물결까지 포함하여 데이터 타입 측정함."
      ],
      "metadata": {
        "colab": {
          "base_uri": "https://localhost:8080/"
        },
        "id": "lVDjoZwmidEJ",
        "outputId": "a23ae0ac-33a5-490a-f59d-b567fb91f645"
      },
      "execution_count": 140,
      "outputs": [
        {
          "output_type": "execute_result",
          "data": {
            "text/plain": [
              "7"
            ]
          },
          "metadata": {},
          "execution_count": 140
        }
      ]
    },
    {
      "cell_type": "markdown",
      "source": [
        "# 문자열과 함수"
      ],
      "metadata": {
        "id": "ok4COo4Hi5Lz"
      }
    },
    {
      "cell_type": "code",
      "source": [
        "def so_simple4(s):\n",
        "      print(s)\n",
        "      return \"Bye~\"\n",
        "#print(): 단순 출력 함수, 함수 알고리즘에 영향 전혀 안 줌, 일단 출력하고 보는 거임. 우선순위가 굉장히 높은 함수.\n",
        "#해당 함수는 input에 무엇을 넣든지간에 결과값이 항상 일정한(똑같은) 함수다."
      ],
      "metadata": {
        "id": "T6bxsi99iilq"
      },
      "execution_count": 148,
      "outputs": []
    },
    {
      "cell_type": "code",
      "source": [
        "r = so_simple4(\"Hello\")\n",
        "#1. 함수의 input에 \"Hello\"를 집어넣음\n",
        "#2. print(\"Hello\")를 일단 실행시킴\n",
        "#3. 함수의 input에 뭐가 들어갔든지 간에 결과값은 \"Bye~\"로 동일\n",
        "#4. 결과값인 \"Bye~\"를 r이라는 변수에 대입함."
      ],
      "metadata": {
        "colab": {
          "base_uri": "https://localhost:8080/"
        },
        "id": "ueuXfQ0djB5q",
        "outputId": "88b06a96-d35c-43f9-c593-e64127351b9c"
      },
      "execution_count": 150,
      "outputs": [
        {
          "output_type": "stream",
          "name": "stdout",
          "text": [
            "Hello\n"
          ]
        }
      ]
    },
    {
      "cell_type": "code",
      "source": [
        "print(r)\n",
        "#중요!: 함수에서 결과값을 변수에 대입했을 경우, 따로 출력명령을 하지 않으면 출력되지 않는다.\n",
        "#일반적으로 결과값은 출력이 되지 않고 메모리에 단순 저장 되는 구조임. 하지만 파이썬은 친절하게 출력을 해준다."
      ],
      "metadata": {
        "colab": {
          "base_uri": "https://localhost:8080/"
        },
        "id": "3DeaqhUyjMd8",
        "outputId": "766a0e7f-f236-456a-eacf-7718a138bccc"
      },
      "execution_count": 153,
      "outputs": [
        {
          "output_type": "stream",
          "name": "stdout",
          "text": [
            "Bye~\n"
          ]
        }
      ]
    },
    {
      "cell_type": "code",
      "source": [
        "so_simple4(\"Hello\")\n",
        "#1. 함수의 input에 \"Hello\"를 집어넣음\n",
        "#2. print(\"Hello\")를 일단 실행시킴\n",
        "#3. 함수의 결과값인 \"Bye~\"가 계산되고 함수 실행 종료. 파이썬은 여기서 결과값도 출력해 줌."
      ],
      "metadata": {
        "colab": {
          "base_uri": "https://localhost:8080/",
          "height": 54
        },
        "id": "tW3HBlxkjRYj",
        "outputId": "41b6919a-0c43-41fa-fe23-650217816cf5"
      },
      "execution_count": 161,
      "outputs": [
        {
          "output_type": "stream",
          "name": "stdout",
          "text": [
            "Hello\n"
          ]
        },
        {
          "output_type": "execute_result",
          "data": {
            "text/plain": [
              "'Bye~'"
            ],
            "application/vnd.google.colaboratory.intrinsic+json": {
              "type": "string"
            }
          },
          "metadata": {},
          "execution_count": 161
        }
      ]
    },
    {
      "cell_type": "markdown",
      "source": [
        "# True 또는 False를 반환하는 연산자"
      ],
      "metadata": {
        "id": "tGRaizzanTjP"
      }
    },
    {
      "cell_type": "code",
      "source": [
        "#A > Z: A가 Z보다 크면 True, 크지 않으면 False 반환\n",
        "#A < Z: A가 Z보다 작으면 True, 작지 않으면 False 반환\n",
        "#A >= Z: A가 Z보다 크거나 같으면 True, 그렇지 않으면 False 반환\n",
        "#A <= Z: A가 Z보다 작거나 같으면 True, 그렇지 않으면 False 반환\n",
        "#A == Z: A와 Z가 같으면 True, 그렇지 않으면 False 반환\n",
        "#A != Z: A와 Z가 같지 않으면 True, 그렇지 않으면(같으면) False 반환\n",
        "#!: not을 의미함.\n",
        "#조건문 연산자도 복합 대입 연산자와 마찬가지로 =가 뒤에 온다."
      ],
      "metadata": {
        "id": "w0oTuDRpmTvf"
      },
      "execution_count": 165,
      "outputs": []
    },
    {
      "cell_type": "markdown",
      "source": [
        "# 조건문: if, elif, else"
      ],
      "metadata": {
        "id": "ei6ePiFIoOlH"
      }
    },
    {
      "cell_type": "code",
      "source": [
        "x = 3\n",
        "\n",
        "if x < 0:\n",
        "      print(\"음수군요.\")\n",
        "elif x == 0:\n",
        "      print(\"0과 같군요.\")\n",
        "elif x > 5:\n",
        "      print(\"양수이지만 5보다는 작군요.\")\n",
        "else:\n",
        "      print(\"양수이지만 5와 같거나 크네요.\")\n",
        "#elif: else if: 그렇지 않다면"
      ],
      "metadata": {
        "colab": {
          "base_uri": "https://localhost:8080/"
        },
        "id": "z-qhQJcjnaE2",
        "outputId": "3b0d8b13-63bf-45ca-fde4-bf9d03f56c99"
      },
      "execution_count": 169,
      "outputs": [
        {
          "output_type": "stream",
          "name": "stdout",
          "text": [
            "양수이지만 5와 같거나 크네요.\n"
          ]
        }
      ]
    },
    {
      "cell_type": "code",
      "source": [
        "def main():\n",
        "      num = int(input(\"2의 배수이면서 3의 배수 입력: \"))\n",
        "      if num % 2 == 0:\n",
        "            if num % 3 == 0:\n",
        "                  print(\"OK!\")\n",
        "            else:\n",
        "                  print(\"NO!\")\n",
        "      else:\n",
        "            print(\"NO!\")\n",
        "#if 문 안에 if 문이 있는 함수의 형태. 조건 안에 조건이 더 있는 형태.\n",
        "#1-1): 2로 나눴을 때 나머지가 0인 경우: 2(다음 조건)로 넘어감.\n",
        "#2-1): 3으로 나눴을 때 나머지가 0인 경우: \"OK!\"출력\n",
        "#2-2): 3으로 나눴을 때 나머지가 0이 아닌 경우: \"NO!\"출력\n",
        "#1-2): 2로 나눴을 때 나머지가 0이 아닌 경우: \"NO!\"출력\n",
        "#2와 3의 공배수일 경우에만 \"OK!\"출력, 나머지의 경우 \"NO!\"출력"
      ],
      "metadata": {
        "id": "ftQZAaNnomB3"
      },
      "execution_count": 184,
      "outputs": []
    },
    {
      "cell_type": "code",
      "source": [
        "main()\n",
        "#3은 3의 배수이지만, 2의 배수는 아니므로."
      ],
      "metadata": {
        "colab": {
          "base_uri": "https://localhost:8080/"
        },
        "id": "KppwMV8Vpb03",
        "outputId": "2ee9b437-38bd-4961-a5ca-dea1f4f8c473"
      },
      "execution_count": 180,
      "outputs": [
        {
          "output_type": "stream",
          "name": "stdout",
          "text": [
            "2의 배수이면서 3의 배수 입력: 3\n",
            "NO!\n"
          ]
        }
      ]
    },
    {
      "cell_type": "code",
      "source": [
        "main()\n",
        "#6은 2의 배수이면서 3의 배수이기도 하므로."
      ],
      "metadata": {
        "colab": {
          "base_uri": "https://localhost:8080/"
        },
        "id": "_iyedaepqFUj",
        "outputId": "963c907c-534d-4805-f971-379b85cebc7d"
      },
      "execution_count": 183,
      "outputs": [
        {
          "output_type": "stream",
          "name": "stdout",
          "text": [
            "2의 배수이면서 3의 배수 입력: 6\n",
            "OK!\n"
          ]
        }
      ]
    }
  ]
}