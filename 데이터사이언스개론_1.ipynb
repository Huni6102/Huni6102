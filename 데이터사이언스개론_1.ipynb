{
  "nbformat": 4,
  "nbformat_minor": 0,
  "metadata": {
    "colab": {
      "provenance": [],
      "mount_file_id": "1SF3bd7ZGccA_5E74Pcy-vbZ_Fo6Fmgll",
      "authorship_tag": "ABX9TyO3cKDk3dD1FmcHUwL9Mdl7",
      "include_colab_link": true
    },
    "kernelspec": {
      "name": "python3",
      "display_name": "Python 3"
    },
    "language_info": {
      "name": "python"
    }
  },
  "cells": [
    {
      "cell_type": "markdown",
      "metadata": {
        "id": "view-in-github",
        "colab_type": "text"
      },
      "source": [
        "<a href=\"https://colab.research.google.com/github/Huni6102/Huni6102/blob/main/%EB%8D%B0%EC%9D%B4%ED%84%B0%EC%82%AC%EC%9D%B4%EC%96%B8%EC%8A%A4%EA%B0%9C%EB%A1%A0_1.ipynb\" target=\"_parent\"><img src=\"https://colab.research.google.com/assets/colab-badge.svg\" alt=\"Open In Colab\"/></a>"
      ]
    },
    {
      "cell_type": "code",
      "execution_count": null,
      "metadata": {
        "colab": {
          "base_uri": "https://localhost:8080/"
        },
        "id": "z3R1hn3QWCeH",
        "outputId": "1f688b8c-3dc5-4c10-93df-54a397181c51"
      },
      "outputs": [
        {
          "output_type": "execute_result",
          "data": {
            "text/plain": [
              "88"
            ]
          },
          "metadata": {},
          "execution_count": 64
        }
      ],
      "source": [
        "33 + 55\n",
        "#수식 계산해 보기"
      ]
    },
    {
      "cell_type": "markdown",
      "source": [],
      "metadata": {
        "id": "aw6ECAZtlRGg"
      }
    },
    {
      "cell_type": "code",
      "source": [
        "33 + 55 ="
      ],
      "metadata": {
        "colab": {
          "base_uri": "https://localhost:8080/",
          "height": 110
        },
        "id": "DY1gLFjKWmQN",
        "outputId": "1ab1706a-4085-418c-ed3a-f286b90c7939"
      },
      "execution_count": null,
      "outputs": [
        {
          "output_type": "error",
          "ename": "SyntaxError",
          "evalue": "cannot assign to expression (<ipython-input-3-8d46104e5a89>, line 1)",
          "traceback": [
            "\u001b[0;36m  File \u001b[0;32m\"<ipython-input-3-8d46104e5a89>\"\u001b[0;36m, line \u001b[0;32m1\u001b[0m\n\u001b[0;31m    33 + 55 =\u001b[0m\n\u001b[0m    ^\u001b[0m\n\u001b[0;31mSyntaxError\u001b[0m\u001b[0;31m:\u001b[0m cannot assign to expression\n"
          ]
        }
      ]
    },
    {
      "cell_type": "code",
      "source": [
        "7 * 5 / 2"
      ],
      "metadata": {
        "colab": {
          "base_uri": "https://localhost:8080/"
        },
        "id": "DmeZOrawWo4d",
        "outputId": "3a835aa9-4003-49c3-9fee-6d81645aecf4"
      },
      "execution_count": null,
      "outputs": [
        {
          "output_type": "execute_result",
          "data": {
            "text/plain": [
              "17.5"
            ]
          },
          "metadata": {},
          "execution_count": 5
        }
      ]
    },
    {
      "cell_type": "code",
      "source": [
        "9 * (5 - 7) / 3"
      ],
      "metadata": {
        "colab": {
          "base_uri": "https://localhost:8080/"
        },
        "id": "FVZXDxbYWsY4",
        "outputId": "5154e8d6-8fa0-4259-b674-008bc2a35197"
      },
      "execution_count": null,
      "outputs": [
        {
          "output_type": "execute_result",
          "data": {
            "text/plain": [
              "-6.0"
            ]
          },
          "metadata": {},
          "execution_count": 6
        }
      ]
    },
    {
      "cell_type": "code",
      "source": [
        "print(\"Hello, world!\")\n",
        "#출력 print"
      ],
      "metadata": {
        "colab": {
          "base_uri": "https://localhost:8080/"
        },
        "id": "efDCMldTWv7v",
        "outputId": "762d4b56-1a4d-4c2a-9c07-e41dbabd76f8"
      },
      "execution_count": null,
      "outputs": [
        {
          "output_type": "stream",
          "name": "stdout",
          "text": [
            "Hello, world!\n"
          ]
        }
      ]
    },
    {
      "cell_type": "code",
      "source": [
        "print(5)"
      ],
      "metadata": {
        "colab": {
          "base_uri": "https://localhost:8080/"
        },
        "id": "WYTFf9gIW0cW",
        "outputId": "22d955d1-fea7-4627-8506-570d16959b79"
      },
      "execution_count": null,
      "outputs": [
        {
          "output_type": "stream",
          "name": "stdout",
          "text": [
            "5\n"
          ]
        }
      ]
    },
    {
      "cell_type": "code",
      "source": [
        "print(\"5\")"
      ],
      "metadata": {
        "colab": {
          "base_uri": "https://localhost:8080/"
        },
        "id": "7E06FsgTW3rZ",
        "outputId": "93f5785c-af26-4252-a5ea-8f7bfaa2da6e"
      },
      "execution_count": null,
      "outputs": [
        {
          "output_type": "stream",
          "name": "stdout",
          "text": [
            "5\n"
          ]
        }
      ]
    },
    {
      "cell_type": "code",
      "source": [
        "print(3+5)"
      ],
      "metadata": {
        "colab": {
          "base_uri": "https://localhost:8080/"
        },
        "id": "p4KReepqW6l4",
        "outputId": "99350dba-dd6a-43a0-e976-ba95474082bb"
      },
      "execution_count": null,
      "outputs": [
        {
          "output_type": "stream",
          "name": "stdout",
          "text": [
            "8\n"
          ]
        }
      ]
    },
    {
      "cell_type": "code",
      "source": [
        "print(\"3 + 5\")"
      ],
      "metadata": {
        "colab": {
          "base_uri": "https://localhost:8080/"
        },
        "id": "xbBzFXODW9j7",
        "outputId": "3d74a950-969e-4724-d3bb-2acce36a29d6"
      },
      "execution_count": null,
      "outputs": [
        {
          "output_type": "stream",
          "name": "stdout",
          "text": [
            "3 + 5\n"
          ]
        }
      ]
    },
    {
      "cell_type": "code",
      "source": [
        "print(\"3 + 5 = \", 8)"
      ],
      "metadata": {
        "colab": {
          "base_uri": "https://localhost:8080/"
        },
        "id": "MydarJ2ZXDk9",
        "outputId": "600da5c6-fbc5-46f4-c134-3f8cda675748"
      },
      "execution_count": null,
      "outputs": [
        {
          "output_type": "stream",
          "name": "stdout",
          "text": [
            "3 + 5 =  8\n"
          ]
        }
      ]
    },
    {
      "cell_type": "code",
      "source": [
        "print(1, 2, 3, \"Hello, World!\")"
      ],
      "metadata": {
        "colab": {
          "base_uri": "https://localhost:8080/"
        },
        "id": "1KQyeYNqXHx6",
        "outputId": "f9a1b23a-bb8e-4c93-d6d8-1c150372675b"
      },
      "execution_count": null,
      "outputs": [
        {
          "output_type": "stream",
          "name": "stdout",
          "text": [
            "1 2 3 Hello, World!\n"
          ]
        }
      ]
    },
    {
      "cell_type": "code",
      "source": [
        "print(\"3 + 5 = \", 3 + 5)"
      ],
      "metadata": {
        "colab": {
          "base_uri": "https://localhost:8080/"
        },
        "id": "5VOmbJl7XMf2",
        "outputId": "ef633b72-d211-426e-f010-abed3ecc8a0c"
      },
      "execution_count": null,
      "outputs": [
        {
          "output_type": "stream",
          "name": "stdout",
          "text": [
            "3 + 5 =  8\n"
          ]
        }
      ]
    },
    {
      "cell_type": "code",
      "source": [
        "val = 30\n",
        "#변수에 저장\n",
        "#= : 대입 연산자, 변수에 대입하는 연산자. 대입 연산자는 우변 먼저 읽는다. 즉, 벨류가 30이 아니라, 30이 벨류에 들어가는 것이다."
      ],
      "metadata": {
        "id": "kk13A3t9XSEz"
      },
      "execution_count": null,
      "outputs": []
    },
    {
      "cell_type": "code",
      "source": [
        "v1 = 25"
      ],
      "metadata": {
        "id": "Z7JSSTu1XY76"
      },
      "execution_count": null,
      "outputs": []
    },
    {
      "cell_type": "code",
      "source": [
        "v2 = 30"
      ],
      "metadata": {
        "id": "W5k71d58XbBc"
      },
      "execution_count": null,
      "outputs": []
    },
    {
      "cell_type": "code",
      "source": [
        "print(v1 + v2)"
      ],
      "metadata": {
        "colab": {
          "base_uri": "https://localhost:8080/"
        },
        "id": "E9kC7JypXbzc",
        "outputId": "81ef05ab-0118-4725-e2bf-5177f6e9417a"
      },
      "execution_count": null,
      "outputs": [
        {
          "output_type": "stream",
          "name": "stdout",
          "text": [
            "55\n"
          ]
        }
      ]
    },
    {
      "cell_type": "code",
      "source": [
        "x = 3 * 50"
      ],
      "metadata": {
        "id": "zVr3p82aXeSj"
      },
      "execution_count": null,
      "outputs": []
    },
    {
      "cell_type": "code",
      "source": [
        "y = x + 120"
      ],
      "metadata": {
        "id": "eoKlbSYjXhCT"
      },
      "execution_count": null,
      "outputs": []
    },
    {
      "cell_type": "code",
      "source": [
        "z = y / 3\n",
        "#정수끼리 계산: 정수\n",
        "#나눗셈: 실수로 파악함\n",
        "#실수: 일반적으로 정수보다 두 배 많은 메모리를 차지함."
      ],
      "metadata": {
        "id": "hWK4DjYGXiTr"
      },
      "execution_count": null,
      "outputs": []
    },
    {
      "cell_type": "code",
      "source": [
        "print(z)"
      ],
      "metadata": {
        "colab": {
          "base_uri": "https://localhost:8080/"
        },
        "id": "Hdsd7BbfXjR8",
        "outputId": "684e8145-67af-4352-bd28-0f283bbbc523"
      },
      "execution_count": null,
      "outputs": [
        {
          "output_type": "stream",
          "name": "stdout",
          "text": [
            "90.0\n"
          ]
        }
      ]
    },
    {
      "cell_type": "code",
      "source": [
        "x = 100"
      ],
      "metadata": {
        "id": "nJs9IbpZXkRz"
      },
      "execution_count": null,
      "outputs": []
    },
    {
      "cell_type": "code",
      "source": [
        "print(x)"
      ],
      "metadata": {
        "colab": {
          "base_uri": "https://localhost:8080/"
        },
        "id": "Lhpld0myXxLg",
        "outputId": "9b47f23c-cddf-4318-9c3a-3e9558c313ac"
      },
      "execution_count": null,
      "outputs": [
        {
          "output_type": "stream",
          "name": "stdout",
          "text": [
            "100\n"
          ]
        }
      ]
    },
    {
      "cell_type": "code",
      "source": [
        "x = 3.14"
      ],
      "metadata": {
        "id": "Ch5BD_zjXydH"
      },
      "execution_count": null,
      "outputs": []
    },
    {
      "cell_type": "code",
      "source": [
        "print(x)"
      ],
      "metadata": {
        "colab": {
          "base_uri": "https://localhost:8080/"
        },
        "id": "OBjF4sBiXz1x",
        "outputId": "a553acf4-a2e4-42bb-c350-616d1056d58d"
      },
      "execution_count": null,
      "outputs": [
        {
          "output_type": "stream",
          "name": "stdout",
          "text": [
            "3.14\n"
          ]
        }
      ]
    },
    {
      "cell_type": "code",
      "source": [
        "x = \"Hi~\"\n",
        "#값을 덮어쓰기 함."
      ],
      "metadata": {
        "id": "mkP6PhsNX1CP"
      },
      "execution_count": null,
      "outputs": []
    },
    {
      "cell_type": "code",
      "source": [
        "print(x)"
      ],
      "metadata": {
        "colab": {
          "base_uri": "https://localhost:8080/"
        },
        "id": "gn1WFSf-X3P8",
        "outputId": "7b49d281-9570-4157-d78d-50520a247a82"
      },
      "execution_count": null,
      "outputs": [
        {
          "output_type": "stream",
          "name": "stdout",
          "text": [
            "Hi~\n"
          ]
        }
      ]
    },
    {
      "cell_type": "code",
      "source": [
        "v = 25"
      ],
      "metadata": {
        "id": "Sk2kl8qoX5NA"
      },
      "execution_count": null,
      "outputs": []
    },
    {
      "cell_type": "code",
      "source": [
        "v = 30"
      ],
      "metadata": {
        "id": "5EXXAppKYCvb"
      },
      "execution_count": null,
      "outputs": []
    },
    {
      "cell_type": "code",
      "source": [
        "def greet():\n",
        "      print(\"반갑습니다.\")\n",
        "      print(\"파이썬의 세계로 오신 것을 환영합니다.\")\n",
        "#함수 만들기 1: 인자 없는 함수. 괄호 안에 아무것도 없으므로, input이 없는 함수다. 또한 return값이 없으므로, output또한 없는 함수다. 함수의 정의(제작)\n"
      ],
      "metadata": {
        "id": "3NSyLf0lYDfE"
      },
      "execution_count": null,
      "outputs": []
    },
    {
      "cell_type": "code",
      "source": [
        "greet()\n",
        "#함수 호출(실행)"
      ],
      "metadata": {
        "colab": {
          "base_uri": "https://localhost:8080/"
        },
        "id": "fC6-FXEUYOtj",
        "outputId": "f5021239-7164-4d4d-c887-b120a62bd764"
      },
      "execution_count": null,
      "outputs": [
        {
          "output_type": "stream",
          "name": "stdout",
          "text": [
            "반갑습니다.\n",
            "파이썬의 세계로 오신 것을 환영합니다.\n"
          ]
        }
      ]
    },
    {
      "cell_type": "code",
      "source": [
        "greet()\n",
        "#print 출력은 output으로 보지 않는다. print 출력은 단지 화면에 보여주는 역할이다. (절차 확인 용도)"
      ],
      "metadata": {
        "colab": {
          "base_uri": "https://localhost:8080/"
        },
        "id": "L2_IYi0CYQXb",
        "outputId": "3cc1fd4f-1d81-4ce2-ff1a-de89c9ced9e3"
      },
      "execution_count": null,
      "outputs": [
        {
          "output_type": "stream",
          "name": "stdout",
          "text": [
            "반갑습니다.\n",
            "파이썬의 세계로 오신 것을 환영합니다.\n"
          ]
        }
      ]
    },
    {
      "cell_type": "code",
      "source": [
        "def greet():\n",
        "      print(\"hi\")\n",
        "      print(\"bye!\")"
      ],
      "metadata": {
        "id": "RfPK1RcgYSQK"
      },
      "execution_count": null,
      "outputs": []
    },
    {
      "cell_type": "code",
      "source": [
        "greet"
      ],
      "metadata": {
        "colab": {
          "base_uri": "https://localhost:8080/",
          "height": 104
        },
        "id": "fqFXX_NaYcyu",
        "outputId": "ad5641a3-3ecd-4d26-85c8-a03e1ee7cc85"
      },
      "execution_count": null,
      "outputs": [
        {
          "output_type": "execute_result",
          "data": {
            "text/plain": [
              "<function __main__.greet()>"
            ],
            "text/html": [
              "<div style=\"max-width:800px; border: 1px solid var(--colab-border-color);\"><style>\n",
              "      pre.function-repr-contents {\n",
              "        overflow-x: auto;\n",
              "        padding: 8px 12px;\n",
              "        max-height: 500px;\n",
              "      }\n",
              "\n",
              "      pre.function-repr-contents.function-repr-contents-collapsed {\n",
              "        cursor: pointer;\n",
              "        max-height: 100px;\n",
              "      }\n",
              "    </style>\n",
              "    <pre style=\"white-space: initial; background:\n",
              "         var(--colab-secondary-surface-color); padding: 8px 12px;\n",
              "         border-bottom: 1px solid var(--colab-border-color);\"><b>greet</b><br/>def greet()</pre><pre class=\"function-repr-contents function-repr-contents-collapsed\" style=\"\"><a class=\"filepath\" style=\"display:none\" href=\"#\">/content/&lt;ipython-input-37-fb277860a729&gt;</a>&lt;no docstring&gt;</pre></div>"
            ]
          },
          "metadata": {},
          "execution_count": 38
        }
      ]
    },
    {
      "cell_type": "code",
      "source": [
        "greet()\n",
        "#greet()에서 greet는 함수의 이름이다. 함수의 이름은 보통 상식적으로, 알아보기 쉽게 설정해야 한다."
      ],
      "metadata": {
        "colab": {
          "base_uri": "https://localhost:8080/"
        },
        "id": "V23JWvzSYdnl",
        "outputId": "b89b8cbb-82e1-44e9-af00-f2785f4d281a"
      },
      "execution_count": null,
      "outputs": [
        {
          "output_type": "stream",
          "name": "stdout",
          "text": [
            "hi\n",
            "bye!\n"
          ]
        }
      ]
    },
    {
      "cell_type": "code",
      "source": [
        "def greet2(이름):\n",
        "      print(\"반갑습니다.\", 이름)\n",
        "      print(이름, \"님은 파이썬의 세계로 오셨습니다.\")\n",
        "#함수 만들기 2: 인자 있는 함수. 여기서 이름은 input을 의미한다."
      ],
      "metadata": {
        "id": "7t3oKgR-YfBq"
      },
      "execution_count": null,
      "outputs": []
    },
    {
      "cell_type": "code",
      "source": [
        "greet2(\"John\")"
      ],
      "metadata": {
        "colab": {
          "base_uri": "https://localhost:8080/"
        },
        "id": "GXoDQcRMYm9J",
        "outputId": "38be4f71-1e5c-49da-c382-f30bfa9c0df3"
      },
      "execution_count": null,
      "outputs": [
        {
          "output_type": "stream",
          "name": "stdout",
          "text": [
            "반갑습니다. John\n",
            "John 님은 파이썬의 세계로 오셨습니다.\n"
          ]
        }
      ]
    },
    {
      "cell_type": "code",
      "source": [
        "greet2(\"Yoon\")"
      ],
      "metadata": {
        "colab": {
          "base_uri": "https://localhost:8080/"
        },
        "id": "sSf1QcTIYtQY",
        "outputId": "32392e55-6de8-43b1-dbc5-e46cb49f723f"
      },
      "execution_count": null,
      "outputs": [
        {
          "output_type": "stream",
          "name": "stdout",
          "text": [
            "반갑습니다. Yoon\n",
            "Yoon 님은 파이썬의 세계로 오셨습니다.\n"
          ]
        }
      ]
    },
    {
      "cell_type": "code",
      "source": [
        "def adder2(num1, num2):\n",
        "      ar = num1 + num2\n",
        "      return ar\n",
        "#함수 만들기 3: 값의 반환(return)이 있는 것"
      ],
      "metadata": {
        "id": "Yk1fQqFVcBZ2"
      },
      "execution_count": null,
      "outputs": []
    },
    {
      "cell_type": "code",
      "source": [
        "result = adder2(5, 3)\n",
        "#변수에 결과값 저장하는 형태의 함수."
      ],
      "metadata": {
        "id": "cfg2RyC6cU1k"
      },
      "execution_count": null,
      "outputs": []
    },
    {
      "cell_type": "code",
      "source": [
        "print(result)"
      ],
      "metadata": {
        "colab": {
          "base_uri": "https://localhost:8080/"
        },
        "id": "NWWn_mVTccDJ",
        "outputId": "6a28774f-d951-4232-9326-125551a0862c"
      },
      "execution_count": null,
      "outputs": [
        {
          "output_type": "stream",
          "name": "stdout",
          "text": [
            "8\n"
          ]
        }
      ]
    },
    {
      "cell_type": "code",
      "source": [
        "def adder(n1, n2):\n",
        "      result = n1 + n2\n",
        "      return result"
      ],
      "metadata": {
        "id": "k3hQDWebcdC6"
      },
      "execution_count": null,
      "outputs": []
    },
    {
      "cell_type": "code",
      "source": [
        "A = adder(5, 3)"
      ],
      "metadata": {
        "id": "_pl3T8F4c2Jk"
      },
      "execution_count": null,
      "outputs": []
    },
    {
      "cell_type": "code",
      "source": [
        "print(A)"
      ],
      "metadata": {
        "colab": {
          "base_uri": "https://localhost:8080/"
        },
        "id": "VWTcNhsjc396",
        "outputId": "70d3c157-0136-43b0-e82d-a89146165fbb"
      },
      "execution_count": null,
      "outputs": [
        {
          "output_type": "stream",
          "name": "stdout",
          "text": [
            "8\n"
          ]
        }
      ]
    },
    {
      "cell_type": "code",
      "source": [
        "def adder3(num1, num2):\n",
        "      return num1 + num2\n",
        "#변수에 결과값 저장하지 않는 형태의 함수."
      ],
      "metadata": {
        "id": "FU4zwU6Ic5lX"
      },
      "execution_count": null,
      "outputs": []
    },
    {
      "cell_type": "code",
      "source": [
        "print(adder3(5, 3))"
      ],
      "metadata": {
        "colab": {
          "base_uri": "https://localhost:8080/"
        },
        "id": "OE85dOvEc7BC",
        "outputId": "4cea98c4-3016-4563-a67f-e0a38778a3d5"
      },
      "execution_count": null,
      "outputs": [
        {
          "output_type": "stream",
          "name": "stdout",
          "text": [
            "8\n"
          ]
        }
      ]
    }
  ]
}